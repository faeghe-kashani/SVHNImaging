{
  "cells": [
    {
      "cell_type": "markdown",
      "metadata": {
        "id": "M7xDpnPZrML1"
      },
      "source": [
        "## Load the SVHN dataset"
      ]
    },
    {
      "cell_type": "code",
      "source": [
        "!pip install wget"
      ],
      "metadata": {
        "id": "30z2RCjdutqA"
      },
      "execution_count": null,
      "outputs": []
    },
    {
      "cell_type": "code",
      "execution_count": 6,
      "metadata": {
        "id": "BfU_UbWKrML6"
      },
      "outputs": [],
      "source": [
        "import wget\n",
        "import numpy as np\n",
        "import matplotlib.pyplot as plt"
      ]
    },
    {
      "cell_type": "code",
      "execution_count": 3,
      "metadata": {
        "id": "gcDv2c2QrML8"
      },
      "outputs": [],
      "source": [
        "train_url = \"http://ufldl.stanford.edu/housenumbers/train_32x32.mat\"\n",
        "test_url = \"http://ufldl.stanford.edu/housenumbers/test_32x32.mat\"\n",
        "extra_url = \"http://ufldl.stanford.edu/housenumbers/extra_32x32.mat\"\n",
        "\n",
        "train_data = wget.download(train_url)\n",
        "train_data = 'train_32x32.mat'\n",
        "test_data = wget.download(test_url)\n",
        "test_data = 'test_32x32.mat'\n",
        "extra_data = wget.download(extra_url)\n",
        "extra_data = 'extra_32x32.mat'"
      ]
    },
    {
      "cell_type": "code",
      "execution_count": 5,
      "metadata": {
        "colab": {
          "base_uri": "https://localhost:8080/",
          "height": 35
        },
        "id": "cj4qFKo_rML8",
        "outputId": "db62bcc8-3014-4981-9bca-1a1ef7b65c83"
      },
      "outputs": [
        {
          "output_type": "execute_result",
          "data": {
            "text/plain": [
              "'train_32x32.mat'"
            ],
            "application/vnd.google.colaboratory.intrinsic+json": {
              "type": "string"
            }
          },
          "metadata": {},
          "execution_count": 5
        }
      ],
      "source": [
        "train_data"
      ]
    },
    {
      "cell_type": "code",
      "execution_count": 4,
      "metadata": {
        "id": "VwV91fUCrML9"
      },
      "outputs": [],
      "source": [
        "from scipy.io import loadmat\n",
        "data_train = loadmat(train_data)\n",
        "data_test = loadmat(test_data)\n",
        "data_extra = loadmat(extra_data)"
      ]
    },
    {
      "cell_type": "markdown",
      "metadata": {
        "id": "z7rdBCp9rML-"
      },
      "source": [
        "## EDA"
      ]
    },
    {
      "cell_type": "code",
      "execution_count": 7,
      "metadata": {
        "colab": {
          "base_uri": "https://localhost:8080/"
        },
        "id": "LniXsmkdrML-",
        "outputId": "f85fb0f4-6d82-46f2-d65c-fd54bdd944ad"
      },
      "outputs": [
        {
          "output_type": "execute_result",
          "data": {
            "text/plain": [
              "(dict, dict)"
            ]
          },
          "metadata": {},
          "execution_count": 7
        }
      ],
      "source": [
        "type(data_train), type(data_test)"
      ]
    },
    {
      "cell_type": "code",
      "execution_count": 8,
      "metadata": {
        "colab": {
          "base_uri": "https://localhost:8080/"
        },
        "id": "Y7QM9LLfrML-",
        "outputId": "dedb8c7f-217b-4279-915e-5c962be8b4e9"
      },
      "outputs": [
        {
          "output_type": "execute_result",
          "data": {
            "text/plain": [
              "dict_keys(['__header__', '__version__', '__globals__', 'X', 'y'])"
            ]
          },
          "metadata": {},
          "execution_count": 8
        }
      ],
      "source": [
        "# a dic has three attributes: .items() / .keys() / .values()\n",
        "data_train.keys()"
      ]
    },
    {
      "cell_type": "code",
      "execution_count": 11,
      "metadata": {
        "id": "_EvKuR8LrML_"
      },
      "outputs": [],
      "source": [
        "X_train = data_train['X']\n",
        "X_test = data_test['X']\n",
        "X_extra = data_extra['X']\n",
        "\n",
        "X_train = np.transpose(X_train, (3, 0, 1, 2))\n",
        "X_train.shape\n",
        "X_test = np.transpose(X_test, (3, 0, 1, 2))\n",
        "X_extra = np.transpose(X_extra, (3, 0, 1, 2))\n",
        "\n",
        "X_train = np.concatenate((X_train, X_extra[:50000]))\n",
        "\n",
        "X_train = X_train.astype(np.float32) / 255.0\n",
        "X_test = X_test.astype(np.float32) / 255.0\n",
        "\n",
        "\n",
        "\n",
        "y_train = data_train['y']\n",
        "y_test = data_test['y']\n",
        "y_train = np.concatenate((y_train, y_extra[:50000]))\n",
        "\n",
        "\n",
        "y_train = np.where(y_train==10, 0, y_train)\n",
        "y_test = np.where(y_test==10, 0, y_test)"
      ]
    },
    {
      "cell_type": "code",
      "execution_count": 10,
      "metadata": {
        "colab": {
          "base_uri": "https://localhost:8080/"
        },
        "id": "oCMAqC_4rMMA",
        "outputId": "6c799ce1-8345-41fb-fea2-ec43b7e11d01"
      },
      "outputs": [
        {
          "output_type": "execute_result",
          "data": {
            "text/plain": [
              "(numpy.ndarray, numpy.ndarray)"
            ]
          },
          "metadata": {},
          "execution_count": 10
        }
      ],
      "source": [
        "type(X_train), type(y_train)"
      ]
    },
    {
      "cell_type": "code",
      "execution_count": 11,
      "metadata": {
        "colab": {
          "base_uri": "https://localhost:8080/"
        },
        "id": "sEcBmPudrMMA",
        "outputId": "b06701d5-0348-494f-ae1c-7617169df235"
      },
      "outputs": [
        {
          "output_type": "execute_result",
          "data": {
            "text/plain": [
              "(73257, 32, 32, 3)"
            ]
          },
          "metadata": {},
          "execution_count": 11
        }
      ],
      "source": [
        "X_train.shape"
      ]
    },
    {
      "cell_type": "code",
      "source": [
        "# onehot encoding labels\n",
        "from keras.utils import to_categorical\n",
        "y_train = to_categorical(y_train)\n",
        "y_test = to_categorical(y_test)"
      ],
      "metadata": {
        "id": "xbdVuRoM1lcR"
      },
      "execution_count": 12,
      "outputs": []
    },
    {
      "cell_type": "code",
      "source": [
        "i = np.random.randint(1, len(X_train))\n",
        "print(f\"Lable of {i} th image is: {y_train[i]}\")\n",
        "plt.imshow(X_train[i, :,:,:])"
      ],
      "metadata": {
        "colab": {
          "base_uri": "https://localhost:8080/",
          "height": 465
        },
        "id": "8PY3QIAu2O4g",
        "outputId": "c7cd3a55-4abd-4e64-e9a0-155995de0720"
      },
      "execution_count": 13,
      "outputs": [
        {
          "output_type": "stream",
          "name": "stdout",
          "text": [
            "Lable of 46941 th image is: [0. 1. 0. 0. 0. 0. 0. 0. 0. 0.]\n"
          ]
        },
        {
          "output_type": "execute_result",
          "data": {
            "text/plain": [
              "<matplotlib.image.AxesImage at 0x7a9436dc43d0>"
            ]
          },
          "metadata": {},
          "execution_count": 13
        },
        {
          "output_type": "display_data",
          "data": {
            "text/plain": [
              "<Figure size 640x480 with 1 Axes>"
            ],
            "image/png": "[encoded data removed]"
          },
          "metadata": {}
        }
      ]
    },
    {
      "cell_type": "code",
      "source": [
        "from keras.models import Sequential\n",
        "from keras.layers import Conv2D, MaxPool2D, Flatten, Dense, InputLayer, Dropout\n",
        "from keras.optimizers import Adam\n",
        "\n",
        "model = Sequential()\n",
        "model.add(InputLayer(input_shape=X_train[0].shape))\n",
        "model.add(Conv2D(32, kernel_size=(3,3), activation='relu'))\n",
        "model.add(MaxPool2D(pool_size=(2,2)))\n",
        "model.add(Conv2D(64, kernel_size=(3,3), activation='relu'))\n",
        "\n",
        "model.add(Flatten())\n",
        "#overfitting handling\n",
        "model.add(Dropout(0.5))\n",
        "model.add(Dense(256, activation='relu'))\n",
        "model.add(Dense(len(y_train[0]), activation='softmax'))\n",
        "\n",
        "model.compile(optimizer=Adam(learning_rate=0.001),\n",
        "              loss='categorical_crossentropy',\n",
        "              metrics=['accuracy']\n",
        "             )"
      ],
      "metadata": {
        "id": "Q7Sb3sqF0djR"
      },
      "execution_count": 17,
      "outputs": []
    },
    {
      "cell_type": "code",
      "source": [
        "model.summary()"
      ],
      "metadata": {
        "colab": {
          "base_uri": "https://localhost:8080/"
        },
        "id": "BycyNFyP49OW",
        "outputId": "1f2b1da6-c7e7-42b6-9972-73f7cd87b7b2"
      },
      "execution_count": 18,
      "outputs": [
        {
          "output_type": "stream",
          "name": "stdout",
          "text": [
            "Model: \"sequential_2\"\n",
            "_________________________________________________________________\n",
            " Layer (type)                Output Shape              Param #   \n",
            "=================================================================\n",
            " conv2d_4 (Conv2D)           (None, 30, 30, 32)        896       \n",
            "                                                                 \n",
            " max_pooling2d_2 (MaxPoolin  (None, 15, 15, 32)        0         \n",
            " g2D)                                                            \n",
            "                                                                 \n",
            " conv2d_5 (Conv2D)           (None, 13, 13, 64)        18496     \n",
            "                                                                 \n",
            " flatten_2 (Flatten)         (None, 10816)             0         \n",
            "                                                                 \n",
            " dropout_2 (Dropout)         (None, 10816)             0         \n",
            "                                                                 \n",
            " dense_3 (Dense)             (None, 256)               2769152   \n",
            "                                                                 \n",
            " dense_4 (Dense)             (None, 10)                2570      \n",
            "                                                                 \n",
            "=================================================================\n",
            "Total params: 2791114 (10.65 MB)\n",
            "Trainable params: 2791114 (10.65 MB)\n",
            "Non-trainable params: 0 (0.00 Byte)\n",
            "_________________________________________________________________\n"
          ]
        }
      ]
    },
    {
      "cell_type": "code",
      "source": [
        "model.fit(X_train, y_train, batch_size=32, epochs=20, validation_split=0.1)"
      ],
      "metadata": {
        "colab": {
          "base_uri": "https://localhost:8080/"
        },
        "id": "Nsey_jxi8Dkj",
        "outputId": "a79338c6-64bd-43a2-8c45-f0062404c078"
      },
      "execution_count": 19,
      "outputs": [
        {
          "output_type": "stream",
          "name": "stdout",
          "text": [
            "Epoch 1/20\n",
            "3467/3467 [==============================] - 19s 5ms/step - loss: 0.6234 - accuracy: 0.8109 - val_loss: 0.2672 - val_accuracy: 0.9269\n",
            "Epoch 2/20\n",
            "3467/3467 [==============================] - 17s 5ms/step - loss: 0.3562 - accuracy: 0.8947 - val_loss: 0.2267 - val_accuracy: 0.9360\n",
            "Epoch 3/20\n",
            "3467/3467 [==============================] - 16s 5ms/step - loss: 0.2888 - accuracy: 0.9144 - val_loss: 0.1919 - val_accuracy: 0.9482\n",
            "Epoch 4/20\n",
            "3467/3467 [==============================] - 18s 5ms/step - loss: 0.2489 - accuracy: 0.9259 - val_loss: 0.1774 - val_accuracy: 0.9530\n",
            "Epoch 5/20\n",
            "3467/3467 [==============================] - 16s 5ms/step - loss: 0.2188 - accuracy: 0.9345 - val_loss: 0.1768 - val_accuracy: 0.9538\n",
            "Epoch 6/20\n",
            "3467/3467 [==============================] - 15s 4ms/step - loss: 0.1927 - accuracy: 0.9411 - val_loss: 0.1754 - val_accuracy: 0.9542\n",
            "Epoch 7/20\n",
            "3467/3467 [==============================] - 16s 5ms/step - loss: 0.1733 - accuracy: 0.9461 - val_loss: 0.1875 - val_accuracy: 0.9546\n",
            "Epoch 8/20\n",
            "3467/3467 [==============================] - 16s 5ms/step - loss: 0.1574 - accuracy: 0.9514 - val_loss: 0.1933 - val_accuracy: 0.9561\n",
            "Epoch 9/20\n",
            "3467/3467 [==============================] - 16s 5ms/step - loss: 0.1416 - accuracy: 0.9555 - val_loss: 0.1984 - val_accuracy: 0.9539\n",
            "Epoch 10/20\n",
            "3467/3467 [==============================] - 16s 5ms/step - loss: 0.1315 - accuracy: 0.9587 - val_loss: 0.1988 - val_accuracy: 0.9543\n",
            "Epoch 11/20\n",
            "3467/3467 [==============================] - 22s 6ms/step - loss: 0.1214 - accuracy: 0.9619 - val_loss: 0.1962 - val_accuracy: 0.9536\n",
            "Epoch 12/20\n",
            "3467/3467 [==============================] - 32s 9ms/step - loss: 0.1124 - accuracy: 0.9640 - val_loss: 0.2162 - val_accuracy: 0.9538\n",
            "Epoch 13/20\n",
            "3467/3467 [==============================] - 25s 7ms/step - loss: 0.1055 - accuracy: 0.9664 - val_loss: 0.2268 - val_accuracy: 0.9547\n",
            "Epoch 14/20\n",
            "3467/3467 [==============================] - 29s 8ms/step - loss: 0.0980 - accuracy: 0.9682 - val_loss: 0.2367 - val_accuracy: 0.9568\n",
            "Epoch 15/20\n",
            "3467/3467 [==============================] - 17s 5ms/step - loss: 0.0944 - accuracy: 0.9695 - val_loss: 0.2192 - val_accuracy: 0.9561\n",
            "Epoch 16/20\n",
            "3467/3467 [==============================] - 20s 6ms/step - loss: 0.0898 - accuracy: 0.9706 - val_loss: 0.2240 - val_accuracy: 0.9534\n",
            "Epoch 17/20\n",
            "3467/3467 [==============================] - 19s 5ms/step - loss: 0.0859 - accuracy: 0.9729 - val_loss: 0.2425 - val_accuracy: 0.9559\n",
            "Epoch 18/20\n",
            "3467/3467 [==============================] - 17s 5ms/step - loss: 0.0829 - accuracy: 0.9738 - val_loss: 0.2489 - val_accuracy: 0.9570\n",
            "Epoch 19/20\n",
            "3467/3467 [==============================] - 22s 6ms/step - loss: 0.0786 - accuracy: 0.9749 - val_loss: 0.2486 - val_accuracy: 0.9586\n",
            "Epoch 20/20\n",
            "3467/3467 [==============================] - 17s 5ms/step - loss: 0.0770 - accuracy: 0.9755 - val_loss: 0.2688 - val_accuracy: 0.9572\n"
          ]
        },
        {
          "output_type": "execute_result",
          "data": {
            "text/plain": [
              "<keras.src.callbacks.History at 0x7904001360e0>"
            ]
          },
          "metadata": {},
          "execution_count": 19
        }
      ]
    },
    {
      "cell_type": "code",
      "source": [
        "score = model.evaluate(X_test, y_test)\n",
        "print(\"test loss: \",  score[0])\n",
        "print(\"test accuracy: \",  score[1])"
      ],
      "metadata": {
        "colab": {
          "base_uri": "https://localhost:8080/"
        },
        "id": "WKRl5CEYEQ9U",
        "outputId": "adfb8206-c4be-414b-c561-e79d1ca9fba2"
      },
      "execution_count": 21,
      "outputs": [
        {
          "output_type": "stream",
          "name": "stdout",
          "text": [
            "814/814 [==============================] - 2s 3ms/step - loss: 0.5099 - accuracy: 0.9125\n",
            "test loss:  0.5099462270736694\n",
            "test accuracy:  0.9124538898468018\n"
          ]
        }
      ]
    },
    {
      "cell_type": "code",
      "source": [
        "model.save(\"model.h5\")"
      ],
      "metadata": {
        "colab": {
          "base_uri": "https://localhost:8080/"
        },
        "id": "Zwj0kD0kFSc4",
        "outputId": "996cdb5e-3250-4da2-94c6-2ba30085a284"
      },
      "execution_count": 27,
      "outputs": [
        {
          "output_type": "stream",
          "name": "stderr",
          "text": [
            "/usr/local/lib/python3.10/dist-packages/keras/src/engine/training.py:3103: UserWarning: You are saving your model as an HDF5 file via `model.save()`. This file format is considered legacy. We recommend using instead the native Keras format, e.g. `model.save('my_model.keras')`.\n",
            "  saving_api.save_model(\n"
          ]
        }
      ]
    },
    {
      "cell_type": "code",
      "source": [
        "model.input_shape"
      ],
      "metadata": {
        "colab": {
          "base_uri": "https://localhost:8080/"
        },
        "id": "LMXhGuyuLQVM",
        "outputId": "e67ab6c0-9622-45a7-9675-d00f90b888af"
      },
      "execution_count": 29,
      "outputs": [
        {
          "output_type": "execute_result",
          "data": {
            "text/plain": [
              "(None, 32, 32, 3)"
            ]
          },
          "metadata": {},
          "execution_count": 29
        }
      ]
    }
  ],
  "metadata": {
    "kernelspec": {
      "display_name": "Python 3",
      "name": "python3"
    },
    "language_info": {
      "codemirror_mode": {
        "name": "ipython",
        "version": 3
      },
      "file_extension": ".py",
      "mimetype": "text/x-python",
      "name": "python",
      "nbconvert_exporter": "python",
      "pygments_lexer": "ipython3",
      "version": "3.8.10"
    },
    "colab": {
      "provenance": [],
      "gpuType": "T4"
    },
    "accelerator": "GPU"
  },
  "nbformat": 4,
  "nbformat_minor": 0
}